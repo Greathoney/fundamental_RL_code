{
 "cells": [
  {
   "cell_type": "code",
   "execution_count": 58,
   "metadata": {},
   "outputs": [],
   "source": [
    "import numpy as np"
   ]
  },
  {
   "cell_type": "code",
   "execution_count": 59,
   "metadata": {},
   "outputs": [],
   "source": [
    "def update(V: np.ndarray):\n",
    "    new_V = V.copy()\n",
    "    for row in range(5):\n",
    "        for col in range(5):\n",
    "            v = 0\n",
    "            for row_act, col_act in ((-1, 0), (1, 0), (0, -1), (0, 1)):\n",
    "                new_row = row + row_act\n",
    "                new_col = col + col_act\n",
    "                if row == 0 and col == 1:\n",
    "                    v += 0.25 * (10 + 0.9 * V[4, 1])\n",
    "                elif row == 0 and col == 3:\n",
    "                    v += 0.25 * (5 + 0.9 * V[2, 3])\n",
    "                elif new_row < 0 or new_row >= 5 or new_col < 0 or new_col >= 5:\n",
    "                    v += 0.25 * (-1 + 0.9 * V[row, col])\n",
    "                else:\n",
    "                    v += 0.25 * 0.9 * V[new_row, new_col]\n",
    "            new_V[row, col] = v\n",
    "    return new_V"
   ]
  },
  {
   "cell_type": "code",
   "execution_count": 60,
   "metadata": {},
   "outputs": [],
   "source": [
    "def get_poilcy(V: np.ndarray):\t\n",
    "    dir_table = {0: \"↑\", 1:\"↓\", 2: \"←\", 3: \"→\"}\n",
    "    direction_list = []\n",
    "     \n",
    "    for row in range(5):\n",
    "        direction_list_row = []\n",
    "        for col in range(5):\n",
    "            if row == 0 and col == 1 or row == 0 and col == 3:\n",
    "                direction_list_row.append(\"*\")\n",
    "                continue\n",
    "\n",
    "            action_value = []\n",
    "            for row_act, col_act in ((-1, 0), (1, 0), (0, -1), (0, 1)):\n",
    "                new_row = row + row_act\n",
    "                new_col = col + col_act\n",
    "\n",
    "                if new_row < 0 or new_row >= 5 or new_col < 0 or new_col >= 5:\n",
    "                    action_value.append(-np.inf)\n",
    "                else:\n",
    "                    action_value.append(V[new_row, new_col])\n",
    "\n",
    "            best_action = np.argmax(action_value)\n",
    "            direction_list_row.append(dir_table[best_action])\n",
    "        direction_list.append(direction_list_row)\n",
    "    return np.array(direction_list)"
   ]
  },
  {
   "cell_type": "code",
   "execution_count": 61,
   "metadata": {},
   "outputs": [
    {
     "name": "stdout",
     "output_type": "stream",
     "text": [
      "[[ 3.30899932  8.78929484  4.42762216  5.32237057  1.49218174]\n",
      " [ 1.52159105  2.99232084  2.25014293  1.90757468  0.54740569]\n",
      " [ 0.05082547  0.73817357  0.67311624  0.35818919 -0.40313816]\n",
      " [-0.97358932 -0.43549245 -0.35487929 -0.58560211 -1.1830721 ]\n",
      " [-1.85769757 -1.34522828 -1.22926428 -1.42291517 -1.97517607]]\n"
     ]
    }
   ],
   "source": [
    "V = np.zeros((5, 5))\n",
    "\n",
    "for i in range(100):\n",
    "    V = update(V)\n",
    "\n",
    "print(V)"
   ]
  },
  {
   "cell_type": "code",
   "execution_count": 62,
   "metadata": {},
   "outputs": [
    {
     "name": "stdout",
     "output_type": "stream",
     "text": [
      "[['→' '*' '←' '*' '←']\n",
      " ['↑' '↑' '↑' '↑' '←']\n",
      " ['↑' '↑' '↑' '↑' '↑']\n",
      " ['↑' '↑' '↑' '↑' '↑']\n",
      " ['↑' '↑' '↑' '↑' '↑']]\n"
     ]
    }
   ],
   "source": [
    "policy = get_poilcy(V)\n",
    "print(policy)"
   ]
  }
 ],
 "metadata": {
  "kernelspec": {
   "display_name": "Python 3 (ipykernel)",
   "language": "python",
   "name": "python3"
  },
  "language_info": {
   "codemirror_mode": {
    "name": "ipython",
    "version": 3
   },
   "file_extension": ".py",
   "mimetype": "text/x-python",
   "name": "python",
   "nbconvert_exporter": "python",
   "pygments_lexer": "ipython3",
   "version": "3.11.5"
  }
 },
 "nbformat": 4,
 "nbformat_minor": 2
}
