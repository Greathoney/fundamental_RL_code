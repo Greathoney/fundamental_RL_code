{
 "cells": [
  {
   "cell_type": "code",
   "execution_count": 2,
   "metadata": {},
   "outputs": [],
   "source": [
    "import numpy as np"
   ]
  },
  {
   "cell_type": "code",
   "execution_count": 3,
   "metadata": {},
   "outputs": [],
   "source": [
    "def update(Q: np.ndarray):\n",
    "    new_Q = Q.copy()\n",
    "    for row in range(5):\n",
    "        for col in range(5):\n",
    "            for action in range(4):\n",
    "                new_row = row + [-1, 1, 0, 0][action]\n",
    "                new_col = col + [0, 0, -1, 1][action]\n",
    "                if row == 0 and col == 1:\n",
    "                    new_Q[row, col, action] = 10 + 0.9 * np.max(Q[4, 1, :])\n",
    "                elif row == 0 and col == 3:\n",
    "                    new_Q[row, col, action] = 5 + 0.9 * np.max(Q[2, 3, :])\n",
    "                elif new_row < 0 or new_row >= 5 or new_col < 0 or new_col >= 5:\n",
    "                    new_Q[row, col, action] = -1 + 0.9 * np.max(Q[row, col, :])\n",
    "                else:\n",
    "                    new_Q[row, col, action] = 0.9 * np.max(Q[new_row, new_col, :])\n",
    "    return new_Q"
   ]
  },
  {
   "cell_type": "code",
   "execution_count": 4,
   "metadata": {},
   "outputs": [],
   "source": [
    "def get_policy(Q: np.ndarray):\n",
    "    def TF_to_arrow_(val):\n",
    "        msg = \"\"\n",
    "        directions = [\"↑\", \"↓\", \"←\", \"→\"]\n",
    "        for i in range(4):\n",
    "            if val[i]:\n",
    "                msg += directions[i]\n",
    "        if msg == \"↑↓←→\":\n",
    "            msg = \"* \"\n",
    "        if len(msg) == 1:\n",
    "            msg += \" \"\n",
    "        return msg\n",
    "    \n",
    "    TF_to_arrow = np.vectorize(TF_to_arrow_, signature='(n)->()')\n",
    "    policy = TF_to_arrow(np.array(np.isclose(Q, np.max(Q, axis=2)[:, :, None])))\n",
    "\n",
    "    return policy"
   ]
  },
  {
   "cell_type": "code",
   "execution_count": 5,
   "metadata": {},
   "outputs": [
    {
     "name": "stdout",
     "output_type": "stream",
     "text": [
      "[[21.97690153 24.41877948 21.97690153 19.41877948 17.47690153]\n",
      " [19.77921138 21.97690153 19.77921138 17.80129024 16.02116122]\n",
      " [17.80129024 19.77921138 17.80129024 16.02116122 14.41877948]\n",
      " [16.02116122 17.80129024 16.02116122 14.41877948 12.97690153]\n",
      " [14.41877948 16.02116122 14.41877948 12.97690153 11.67921138]]\n"
     ]
    }
   ],
   "source": [
    "Q = np.zeros((5, 5, 4))\n",
    "\n",
    "for i in range(100):\n",
    "    Q = update(Q)\n",
    "\n",
    "print(np.max(Q, axis=2))"
   ]
  },
  {
   "cell_type": "code",
   "execution_count": 6,
   "metadata": {},
   "outputs": [
    {
     "name": "stdout",
     "output_type": "stream",
     "text": [
      "[['→ ' '* ' '← ' '* ' '← ']\n",
      " ['↑→' '↑ ' '↑←' '← ' '← ']\n",
      " ['↑→' '↑ ' '↑←' '↑←' '↑←']\n",
      " ['↑→' '↑ ' '↑←' '↑←' '↑←']\n",
      " ['↑→' '↑ ' '↑←' '↑←' '↑←']]\n"
     ]
    }
   ],
   "source": [
    "policy = get_policy(Q)\n",
    "print(policy)"
   ]
  },
  {
   "cell_type": "code",
   "execution_count": null,
   "metadata": {},
   "outputs": [],
   "source": []
  }
 ],
 "metadata": {
  "kernelspec": {
   "display_name": "Python 3 (ipykernel)",
   "language": "python",
   "name": "python3"
  }
 },
 "nbformat": 4,
 "nbformat_minor": 2
}
