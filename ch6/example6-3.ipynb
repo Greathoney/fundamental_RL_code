{
 "cells": [
  {
   "cell_type": "code",
   "execution_count": 60,
   "metadata": {},
   "outputs": [],
   "source": [
    "import numpy as np\n",
    "import matplotlib.pyplot as plt"
   ]
  },
  {
   "cell_type": "code",
   "execution_count": 72,
   "metadata": {},
   "outputs": [],
   "source": [
    "episodes = 100"
   ]
  },
  {
   "cell_type": "code",
   "execution_count": 73,
   "metadata": {},
   "outputs": [],
   "source": [
    "class RandomAction:\n",
    "    def __init__(self):\n",
    "        self.reset()\n",
    "\n",
    "    def reset(self):\n",
    "        self.state = 2\n",
    "        return self.state\n",
    "\n",
    "    def step(self):\n",
    "        action = np.random.choice([-1, 1])\n",
    "        self.state += action\n",
    "        if self.state < 0:\n",
    "            return self.state, 0, True\n",
    "        elif self.state > 4:\n",
    "            return self.state, 1, True\n",
    "        return self.state, 0, False"
   ]
  },
  {
   "cell_type": "code",
   "execution_count": 74,
   "metadata": {},
   "outputs": [],
   "source": [
    "class MC:\n",
    "    def __init__(self, alpha=0.1, do=False):\n",
    "        self.alpha = alpha\n",
    "        self.gamma = 1\n",
    "        self.FIRST_VISIT = False\n",
    "\n",
    "        self.V = np.zeros(5) + 0.5\n",
    "        self.V_log = []\n",
    "\n",
    "        if do:\n",
    "            self.do()\n",
    "\n",
    "    def do(self):\n",
    "        self.V_log.append(self.V.copy())\n",
    "\n",
    "        for episode in range(episodes):\n",
    "            env = RandomAction()\n",
    "\n",
    "            state = env.reset()\n",
    "            done = False\n",
    "\n",
    "            states = []\n",
    "            rewards = []\n",
    "\n",
    "            while not done:\n",
    "                next_state, reward, done = env.step()\n",
    "                states.append(state)\n",
    "                rewards.append(reward)\n",
    "\n",
    "                state = next_state\n",
    "\n",
    "            G = 0\n",
    "            for i in reversed(range(len(states))):\n",
    "                if not self.FIRST_VISIT or states[i] not in states[:i]:\n",
    "                    G = self.gamma * G + rewards[i]\n",
    "                    self.V[states[i]] += self.alpha * (G - self.V[states[i]])\n",
    "\n",
    "            self.V_log.append(self.V.copy())"
   ]
  },
  {
   "cell_type": "code",
   "execution_count": 75,
   "metadata": {},
   "outputs": [],
   "source": [
    "class batch_TD:\n",
    "    def __init__(self, alpha=0.1, do=False):\n",
    "        self.alpha = alpha\n",
    "        self.gamma = 1\n",
    "\n",
    "        self.V = np.zeros(5) + 0.5\n",
    "        self.V_log = []\n",
    "\n",
    "        if do:\n",
    "            self.do()\n",
    "\n",
    "    def do(self):\n",
    "        self.V_log.append(self.V.copy())\n",
    "\n",
    "        for episode in range(episodes):\n",
    "            env = RandomAction()\n",
    "\n",
    "            state = env.reset()\n",
    "            done = False\n",
    "\n",
    "            V_delta = np.zeros(5)\n",
    "\n",
    "            while not done:\n",
    "                next_state, reward, done = env.step()\n",
    "                if done:\n",
    "                    V_delta[state] += reward - self.V[state]\n",
    "                else:\n",
    "                    V_delta[state] += reward + self.gamma * self.V[next_state] - self.V[state]\n",
    "                state = next_state\n",
    "\n",
    "            self.V += self.alpha * V_delta\n",
    "            self.V_log.append(self.V.copy())"
   ]
  },
  {
   "cell_type": "code",
   "execution_count": 76,
   "metadata": {},
   "outputs": [],
   "source": [
    "def RMS_RA(V):\n",
    "    V = np.array(V)\n",
    "    return np.sqrt(np.mean((V - np.array([1/6, 2/6, 3/6, 4/6, 5/6]))**2, axis=1))"
   ]
  },
  {
   "cell_type": "code",
   "execution_count": 83,
   "metadata": {},
   "outputs": [],
   "source": [
    "MC_RMSs = []\n",
    "TD_RMSs = []\n",
    "\n",
    "TDss = []\n",
    "\n",
    "for i in range(100):\n",
    "    MC_alphas = [0.02]\n",
    "    MCs = [MC(alpha=alpha, do=True) for alpha in MC_alphas]\n",
    "    MC_RMS = [RMS_RA(mc.V_log) for mc in MCs]\n",
    "\n",
    "    TD_alphas = [0.05]\n",
    "    TDs = [batch_TD(alpha=alpha, do=True) for alpha in TD_alphas]\n",
    "    TD_RMS = [RMS_RA(td.V_log) for td in TDs]\n",
    "\n",
    "    MC_RMSs.append(MC_RMS)\n",
    "    TD_RMSs.append(TD_RMS)\n",
    "    TDss.append(TDs)\n",
    "\n",
    "MC_RMSs_mean = np.mean(MC_RMSs, axis=0)\n",
    "TD_RMSs_mean = np.mean(TD_RMSs, axis=0)"
   ]
  },
  {
   "cell_type": "code",
   "execution_count": 84,
   "metadata": {},
   "outputs": [
    {
     "data": {
      "image/png": "[encoded data removed]",
      "text/plain": [
       "<Figure size 640x480 with 1 Axes>"
      ]
     },
     "metadata": {},
     "output_type": "display_data"
    }
   ],
   "source": [
    "for i, alpha in enumerate(MC_alphas):\n",
    "    plt.plot(MC_RMSs_mean[i], '--', label=f\"MC alpha={alpha}\")\n",
    "for i, alpha in enumerate(TD_alphas):\n",
    "    plt.plot(TD_RMSs_mean[i], label=f\"TD alpha={alpha}\")\n",
    "\n",
    "plt.xlabel(\"Episodes\")\n",
    "plt.ylabel(\"RMS error\")\n",
    "plt.legend(ncol=2)\n",
    "plt.xlim(0, episodes)\n",
    "plt.ylim(0, 0.25)\n",
    "plt.show()\n"
   ]
  },
  {
   "cell_type": "code",
   "execution_count": null,
   "metadata": {},
   "outputs": [],
   "source": []
  }
 ],
 "metadata": {
  "kernelspec": {
   "display_name": "Python 3 (ipykernel)",
   "language": "python",
   "name": "python3"
  },
  "language_info": {
   "codemirror_mode": {
    "name": "ipython",
    "version": 3
   },
   "file_extension": ".py",
   "mimetype": "text/x-python",
   "name": "python",
   "nbconvert_exporter": "python",
   "pygments_lexer": "ipython3",
   "version": "3.11.0rc1"
  }
 },
 "nbformat": 4,
 "nbformat_minor": 2
}
