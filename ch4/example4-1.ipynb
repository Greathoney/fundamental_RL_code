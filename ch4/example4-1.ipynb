{
 "cells": [
  {
   "cell_type": "code",
   "execution_count": 1,
   "metadata": {},
   "outputs": [],
   "source": [
    "import numpy as np"
   ]
  },
  {
   "cell_type": "code",
   "execution_count": 2,
   "metadata": {},
   "outputs": [],
   "source": [
    "def policy_evaluation(V: np.ndarray):\n",
    "    while True:\n",
    "        new_V = V.copy()\n",
    "        for row in range(4):\n",
    "            for col in range(4):\n",
    "                if row == 0 and col == 0 or row == 3 and col == 3:\n",
    "                    continue\n",
    "\n",
    "                v = 0\n",
    "                for row_act, col_act in ((-1, 0), (1, 0), (0, -1), (0, 1)):\n",
    "                    new_row = row + row_act\n",
    "                    new_col = col + col_act\n",
    "\n",
    "                    if new_row < 0 or new_row >= 4 or new_col < 0 or new_col >= 4:\n",
    "                        new_row = row\n",
    "                        new_col = col\n",
    "                    v += 0.25 * (-1 + V[new_row, new_col])\n",
    "                \n",
    "                new_V[row, col] = v\n",
    "        if np.allclose(V, new_V):\n",
    "            return new_V\n",
    "        V = new_V"
   ]
  },
  {
   "cell_type": "code",
   "execution_count": 6,
   "metadata": {},
   "outputs": [],
   "source": [
    "def get_policy(V):\n",
    "    dir_table = {0: \"↑\", 1: \"↓\", 2: \"←\", 3: \"→\"}\n",
    "    direction_list = []\n",
    "    for row in range(4):\n",
    "        direction_list_row = []\n",
    "        for col in range(4):\n",
    "            if row == 0 and col == 0 or row == 3 and col == 3:\n",
    "                direction_list_row.append(\"* \")\n",
    "                continue\n",
    "            direction = \"\"\n",
    "            action_value = []\n",
    "            for row_act, col_act in ((-1, 0), (1, 0), (0, -1), (0, 1)):\n",
    "                new_row = row + row_act\n",
    "                new_col = col + col_act\n",
    "\n",
    "                if not 0 <= new_row < 3 or not 0 <= new_col < 3:\n",
    "                    action_value.append(-np.inf)\n",
    "                else:\n",
    "                    action_value.append(V[new_row, new_col])\n",
    "\n",
    "            max_idx_list = np.argwhere(np.isclose(action_value, np.max(action_value))).flatten().tolist()\n",
    "\n",
    "            for i in max_idx_list:\n",
    "                direction += dir_table[i]\n",
    "            direction += \" \" * (2-len(max_idx_list))\n",
    "            direction_list_row.append(direction)\n",
    "        direction_list.append(direction_list_row)\n",
    "    return np.array(direction_list)\n"
   ]
  },
  {
   "cell_type": "code",
   "execution_count": 7,
   "metadata": {},
   "outputs": [
    {
     "name": "stdout",
     "output_type": "stream",
     "text": [
      "[[  0.         -13.99771852 -19.99661926 -21.99621676]\n",
      " [-13.99771852 -17.99702177 -19.99664188 -19.99661926]\n",
      " [-19.99661926 -19.99664188 -17.99702177 -13.99771852]\n",
      " [-21.99621676 -19.99661926 -13.99771852   0.        ]]\n"
     ]
    }
   ],
   "source": [
    "V = np.zeros((4, 4))\n",
    "V = policy_evaluation(V)\n",
    "print(V)"
   ]
  },
  {
   "cell_type": "code",
   "execution_count": 8,
   "metadata": {},
   "outputs": [
    {
     "name": "stdout",
     "output_type": "stream",
     "text": [
      "[['* ' '← ' '← ' '← ']\n",
      " ['↑ ' '↑←' '↓←' '← ']\n",
      " ['↑ ' '↑→' '↑←' '← ']\n",
      " ['↑ ' '↑ ' '↑ ' '* ']]\n"
     ]
    }
   ],
   "source": [
    "policy = get_policy(V)\n",
    "print(policy)"
   ]
  },
  {
   "cell_type": "code",
   "execution_count": null,
   "metadata": {},
   "outputs": [],
   "source": []
  }
 ],
 "metadata": {
  "kernelspec": {
   "display_name": "Python 3 (ipykernel)",
   "language": "python",
   "name": "python3"
  },
  "language_info": {
   "codemirror_mode": {
    "name": "ipython",
    "version": 3
   },
   "file_extension": ".py",
   "mimetype": "text/x-python",
   "name": "python",
   "nbconvert_exporter": "python",
   "pygments_lexer": "ipython3",
   "version": "3.11.5"
  }
 },
 "nbformat": 4,
 "nbformat_minor": 2
}
