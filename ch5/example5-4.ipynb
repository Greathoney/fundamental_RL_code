{
 "cells": [
  {
   "cell_type": "code",
   "execution_count": 1,
   "metadata": {},
   "outputs": [],
   "source": [
    "from tqdm import tqdm\n",
    "\n",
    "import numpy as np\n",
    "import matplotlib.pyplot as plt\n",
    "\n",
    "import gymnasium as gym"
   ]
  },
  {
   "cell_type": "code",
   "execution_count": 2,
   "metadata": {},
   "outputs": [],
   "source": [
    "env = gym.make('Blackjack-v1', sab=True)  # https://gymnasium.farama.org/environments/toy_text/blackjack/\n",
    "\n",
    "V = np.zeros((10, 10, 2))\n",
    "returns = np.empty((10, 10, 2), dtype=object)\n",
    "for i in range(10):\n",
    "    for j in range(10):\n",
    "        for k in range(2):\n",
    "            returns[i, j, k] = []\n",
    "\n",
    "episodes = 30000"
   ]
  },
  {
   "cell_type": "code",
   "execution_count": 3,
   "metadata": {},
   "outputs": [
    {
     "name": "stderr",
     "output_type": "stream",
     "text": [
      "100%|█████████████████████████████████████| 30000/30000 [12:15<00:00, 40.80it/s]\n"
     ]
    }
   ],
   "source": [
    "FIRST_VISIT = False\n",
    "\n",
    "for episode in tqdm(range(episodes)):\n",
    "\n",
    "    states = []\n",
    "    rewards = []\n",
    "\n",
    "    while True:\n",
    "        state, info = env.reset()\n",
    "        while state[0] < 12:\n",
    "            state, reward, done, truncated, info = env.step(1)\n",
    "        if state[0] == 13 and state[1] == 2 and state[2] == 1:\n",
    "            break\n",
    "\n",
    "    while not done:\n",
    "        if state[0] < 20:\n",
    "            action = 1\n",
    "        else:\n",
    "            action = 0\n",
    "\n",
    "        state_index = (state[0]-12, state[1]-1, state[2])\n",
    "        states.append(state_index)\n",
    "\n",
    "        next_state, reward, done, truncated, info = env.step(action)\n",
    "        rewards.append(reward)\n",
    "\n",
    "        state = next_state\n",
    "\n",
    "    G = 0\n",
    "    for i in reversed(range(len(states))):\n",
    "        G = G + rewards[i]\n",
    "        if not FIRST_VISIT or states[i] not in states[:i]:\n",
    "            returns[states[i]].append(G)\n",
    "            # V[states[i]] = np.mean(returns[states[i]])\n"
   ]
  },
  {
   "cell_type": "code",
   "execution_count": 4,
   "metadata": {},
   "outputs": [
    {
     "name": "stdout",
     "output_type": "stream",
     "text": [
      "-0.27944131832797425\n"
     ]
    }
   ],
   "source": [
    "target_v_value = np.mean(returns[(1, 1, 1)])\n",
    "print(target_v_value)"
   ]
  },
  {
   "cell_type": "markdown",
   "metadata": {},
   "source": [
    "#### Ordinary importance sampling"
   ]
  },
  {
   "cell_type": "code",
   "execution_count": 5,
   "metadata": {},
   "outputs": [],
   "source": [
    "env = gym.make('Blackjack-v1', sab=True)  # https://gymnasium.farama.org/environments/toy_text/blackjack/\n",
    "\n",
    "tests = 20\n",
    "episodes = 1500"
   ]
  },
  {
   "cell_type": "code",
   "execution_count": 6,
   "metadata": {},
   "outputs": [
    {
     "name": "stderr",
     "output_type": "stream",
     "text": [
      "100%|███████████████████████████████████████████| 20/20 [11:19<00:00, 33.96s/it]\n"
     ]
    }
   ],
   "source": [
    "FIRST_VISIT = False\n",
    "\n",
    "ord_v_values = []\n",
    "\n",
    "for tests in tqdm(range(tests)):\n",
    "\n",
    "    ord_v_values_ = []\n",
    "\n",
    "    V = np.zeros((10, 10, 2))\n",
    "    returns = np.empty((10, 10, 2), dtype=object)\n",
    "    for i in range(10):\n",
    "        for j in range(10):\n",
    "            for k in range(2):\n",
    "                returns[i, j, k] = []\n",
    "\n",
    "    for episode in range(episodes):\n",
    "\n",
    "        states = []\n",
    "        rewards = []\n",
    "        W_ = []\n",
    "\n",
    "        while True:\n",
    "            state, info = env.reset()\n",
    "            while state[0] < 12:\n",
    "                state, reward, done, truncated, info = env.step(1)\n",
    "            if state[0] == 13 and state[1] == 2 and state[2] == 1:\n",
    "                break\n",
    "            \n",
    "        while not done:\n",
    "            action = np.random.randint(2)\n",
    "\n",
    "            state_index = (state[0]-12, state[1]-1, state[2])\n",
    "            states.append(state_index)\n",
    "\n",
    "            next_state, reward, done, truncated, info = env.step(action)\n",
    "            rewards.append(reward)\n",
    "\n",
    "            if state[0] < 20:\n",
    "                if action == 1:\n",
    "                    W_.append(2)\n",
    "                else:\n",
    "                    W_.append(0)\n",
    "            else:\n",
    "                if action == 0:\n",
    "                    W_.append(2)\n",
    "                else:\n",
    "                    W_.append(0)\n",
    "\n",
    "            state = next_state\n",
    "\n",
    "        G = 0\n",
    "        W = 1\n",
    "        for i in reversed(range(len(states))):\n",
    "            if not FIRST_VISIT or states[i] not in states[:i]:\n",
    "                G = G + rewards[i]\n",
    "                W *= W_[i]\n",
    "                returns[states[i]].append(W*G)\n",
    "                # V[states[i]] = np.mean(returns[states[i]])\n",
    "\n",
    "        ord_v_values_.append(np.mean(returns[(1, 1, 1)]))\n",
    "    ord_v_values.append(ord_v_values_)\n",
    "ord_v_values_np = np.array(ord_v_values)"
   ]
  },
  {
   "cell_type": "markdown",
   "metadata": {},
   "source": [
    "#### Weighted importance sampling"
   ]
  },
  {
   "cell_type": "code",
   "execution_count": 7,
   "metadata": {},
   "outputs": [],
   "source": [
    "env = gym.make('Blackjack-v1', sab=True)  # https://gymnasium.farama.org/environments/toy_text/blackjack/\n",
    "\n",
    "tests = 20\n",
    "episodes = 1500"
   ]
  },
  {
   "cell_type": "code",
   "execution_count": 8,
   "metadata": {},
   "outputs": [
    {
     "name": "stderr",
     "output_type": "stream",
     "text": [
      "100%|███████████████████████████████████████████| 20/20 [11:18<00:00, 33.92s/it]\n"
     ]
    }
   ],
   "source": [
    "FIRST_VISIT = False\n",
    "\n",
    "wei_v_values = []\n",
    "\n",
    "for tests in tqdm(range(tests)):\n",
    "\n",
    "    wei_v_values_ = []\n",
    "\n",
    "    V = np.zeros((10, 10, 2))\n",
    "    returns = np.empty((10, 10, 2), dtype=object)\n",
    "    for i in range(10):\n",
    "        for j in range(10):\n",
    "            for k in range(2):\n",
    "                returns[i, j, k] = []\n",
    "\n",
    "    sum_W = np.zeros((10, 10, 2))\n",
    "\n",
    "    for episode in range(episodes):\n",
    "\n",
    "        states = []\n",
    "        rewards = []\n",
    "        \n",
    "        W_ = []\n",
    "\n",
    "        while True:\n",
    "            state, info = env.reset()\n",
    "            while state[0] < 12:\n",
    "                state, reward, done, truncated, info = env.step(1)\n",
    "            if state[0] == 13 and state[1] == 2 and state[2] == 1:\n",
    "                break\n",
    "\n",
    "        while not done:\n",
    "            action = np.random.randint(2)\n",
    "\n",
    "            state_index = (state[0]-12, state[1]-1, state[2])\n",
    "            states.append(state_index)\n",
    "\n",
    "            next_state, reward, done, truncated, info = env.step(action)\n",
    "            rewards.append(reward)\n",
    "\n",
    "            if state[0] < 20:\n",
    "                if action == 1:\n",
    "                    W_.append(2)\n",
    "                else:\n",
    "                    W_.append(0)\n",
    "            else:\n",
    "                if action == 0:\n",
    "                    W_.append(2)\n",
    "                else:\n",
    "                    W_.append(0)\n",
    "\n",
    "            state = next_state\n",
    "        \n",
    "        G = 0\n",
    "        W = 1\n",
    "        for i in reversed(range(len(states))):\n",
    "            if not FIRST_VISIT or states[i] not in states[:i]:\n",
    "                G = G + rewards[i]\n",
    "                W *= W_[i]\n",
    "                sum_W[states[i]] += W\n",
    "                returns[states[i]].append(W*G)\n",
    "                # V[states[i]] = np.mean(returns[states[i]])\n",
    "\n",
    "        wei_v_values_.append(np.sum(returns[(1, 1, 1)])/(sum_W[(1, 1, 1)]+1e-6))\n",
    "    wei_v_values.append(wei_v_values_)\n",
    "wei_v_values_np = np.array(wei_v_values)"
   ]
  },
  {
   "cell_type": "code",
   "execution_count": 9,
   "metadata": {},
   "outputs": [],
   "source": [
    "ord_v_value_error = np.mean((ord_v_values_np - target_v_value)**2, axis=0)\n",
    "wei_v_value_error = np.mean((wei_v_values_np - target_v_value)**2, axis=0)"
   ]
  },
  {
   "cell_type": "code",
   "execution_count": 10,
   "metadata": {},
   "outputs": [
    {
     "data": {
      "image/png": "[encoded data removed]",
      "text/plain": [
       "<Figure size 640x480 with 1 Axes>"
      ]
     },
     "metadata": {},
     "output_type": "display_data"
    }
   ],
   "source": [
    "plt.plot(ord_v_value_error)\n",
    "plt.plot(wei_v_value_error)\n",
    "plt.ylim([0, 3])\n",
    "plt.xscale('log')\n",
    "plt.xticks([1, 10, 100, 1000], ['1', '10', '100', '1000'])\n",
    "plt.xlabel('Episodes')\n",
    "plt.ylabel('Mean Squared Error')\n",
    "plt.legend(['Ordinary Importance Sampling', 'Weighted Importance Sampling'])\n",
    "\n",
    "plt.show()"
   ]
  },
  {
   "cell_type": "code",
   "execution_count": null,
   "metadata": {},
   "outputs": [],
   "source": []
  }
 ],
 "metadata": {
  "kernelspec": {
   "display_name": "Python 3 (ipykernel)",
   "language": "python",
   "name": "python3"
  },
  "language_info": {
   "codemirror_mode": {
    "name": "ipython",
    "version": 3
   },
   "file_extension": ".py",
   "mimetype": "text/x-python",
   "name": "python",
   "nbconvert_exporter": "python",
   "pygments_lexer": "ipython3",
   "version": "3.11.0rc1"
  }
 },
 "nbformat": 4,
 "nbformat_minor": 2
}
